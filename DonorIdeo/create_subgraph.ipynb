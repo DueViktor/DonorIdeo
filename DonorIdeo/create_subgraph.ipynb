{
 "cells": [
  {
   "cell_type": "markdown",
   "metadata": {},
   "source": [
    "# Reducing the graph size while having all donors and politicians in the same component"
   ]
  },
  {
   "cell_type": "code",
   "execution_count": 20,
   "metadata": {},
   "outputs": [],
   "source": [
    "import pandas as pd\n",
    "from typing import Dict\n",
    "from DonorIdeo.config import ASSETS_DIR, DATABASE_PATH, TEMPORARY_DATA_DIR\n",
    "from DonorIdeo.littlesis_graph_utils import build_littlesis_graph, collect_donations_to\n",
    "import json\n",
    "from DonorIdeo.config import ASSETS_DIR, DATABASE_PATH, TEMPORARY_DATA_DIR\n",
    "from DonorIdeo.littlesis_graph_utils import build_littlesis_graph, collect_donations_to\n",
    "import json\n",
    "import networkx as nx\n",
    "from typing import List, Set, Tuple\n",
    "from tqdm import tqdm\n",
    "from typing import Set"
   ]
  },
  {
   "cell_type": "code",
   "execution_count": 21,
   "metadata": {},
   "outputs": [
    {
     "name": "stdout",
     "output_type": "stream",
     "text": [
      "Reading /Users/viktorduepedersen/Documents/github/DonorIdeo/data/sources/littlesis-entities.json\n",
      "Reading /Users/viktorduepedersen/Documents/github/DonorIdeo/data/sources/littlesis-relationships.json\n"
     ]
    }
   ],
   "source": [
    "# 1. collect the donations to the politicians in the graph\n",
    "# Build the graph\n",
    "_, G_largest = build_littlesis_graph()\n",
    "\n",
    "# Collect the donations to the politicians in the graph\n",
    "littlesis_ids: List[int] = (\n",
    "    pd.read_csv(DATABASE_PATH, dtype={\"littlesis\": \"Int64\"})[\"littlesis\"]\n",
    "    .dropna()\n",
    "    .values.tolist()\n",
    ")\n",
    "donations_to_politician: Dict[int, Dict[int, int]] = collect_donations_to(\n",
    "    politicians=littlesis_ids, graph=G_largest, save_total_to_database=False\n",
    ")\n",
    "\n",
    "\n",
    "nodes_that_needs_to_be_there = set()\n",
    "# check that the politicians are in the graph\n",
    "for politician in donations_to_politician:\n",
    "    assert politician in G_largest.nodes()\n",
    "    nodes_that_needs_to_be_there.add(politician)\n",
    "\n",
    "# same as previous but data from a different source. Confusion about the ids\n",
    "for littlesis_id in littlesis_ids:\n",
    "    assert littlesis_id in G_largest.nodes()\n",
    "    nodes_that_needs_to_be_there.add(littlesis_id)\n",
    "\n",
    "# check that the donors are in the graph\n",
    "for littlesis_id in donations_to_politician:\n",
    "    for donor_id in donations_to_politician[littlesis_id]:\n",
    "        assert (\n",
    "            donor_id in G_largest.nodes()\n",
    "        ), f\"{donor_id} (donated to {littlesis_id}) not in graph\"\n",
    "        nodes_that_needs_to_be_there.add(donor_id)"
   ]
  },
  {
   "cell_type": "markdown",
   "metadata": {},
   "source": [
    "## Asserting that all nodes are indeed present from the start"
   ]
  },
  {
   "cell_type": "code",
   "execution_count": 22,
   "metadata": {},
   "outputs": [
    {
     "name": "stdout",
     "output_type": "stream",
     "text": [
      "All node_ids are in the graph from the start.\n"
     ]
    }
   ],
   "source": [
    "# Ensure all node_ids are in the graph from the start\n",
    "for node in nodes_that_needs_to_be_there:\n",
    "    if node not in G_largest:\n",
    "        raise ValueError(f\"Node {node} not in graph.\")\n",
    "print(\"All node_ids are in the graph from the start.\")"
   ]
  },
  {
   "cell_type": "markdown",
   "metadata": {},
   "source": [
    "# Picking out the component with all the nodes in it"
   ]
  },
  {
   "cell_type": "code",
   "execution_count": 26,
   "metadata": {},
   "outputs": [],
   "source": [
    "def component_with_all_nodes(\n",
    "    G: nx.Graph, node_ids_to_keep: Set[int]\n",
    ") -> nx.Graph | None:\n",
    "    # Find the connected component containing all node_ids\n",
    "    sorted_components = sorted(nx.connected_components(G), key=len, reverse=True)\n",
    "    for component in sorted_components:\n",
    "        if all(node in component for node in node_ids_to_keep):\n",
    "            return G.subgraph(component)\n",
    "    return None"
   ]
  },
  {
   "cell_type": "code",
   "execution_count": 27,
   "metadata": {},
   "outputs": [],
   "source": [
    "valid_component = component_with_all_nodes(G_largest, nodes_that_needs_to_be_there)\n",
    "assert (\n",
    "    valid_component is not None\n",
    "), \"Not all node_ids are in a connected component from the start.\""
   ]
  },
  {
   "cell_type": "markdown",
   "metadata": {},
   "source": [
    "# Can we simply only include nodes that we need and they are still in a connected component?"
   ]
  },
  {
   "cell_type": "code",
   "execution_count": 29,
   "metadata": {},
   "outputs": [
    {
     "data": {
      "text/plain": [
       "False"
      ]
     },
     "execution_count": 29,
     "metadata": {},
     "output_type": "execute_result"
    }
   ],
   "source": [
    "test_G = nx.subgraph(valid_component, nodes_that_needs_to_be_there)\n",
    "nx.is_connected(test_G)"
   ]
  },
  {
   "cell_type": "code",
   "execution_count": 43,
   "metadata": {},
   "outputs": [],
   "source": [
    "sorted_components = sorted(nx.connected_components(test_G), key=len, reverse=True)\n",
    "\n",
    "# lets make sure that these components haven't received any donations\n",
    "for component in sorted_components:\n",
    "    if len(component) == 1:\n",
    "        for node_in_comp in component:\n",
    "            node_id: int = G_largest.nodes[node_in_comp][\"id\"]\n",
    "            assert len(donations_to_politician[node_id]) == 0\n",
    "\n",
    "# Lets exclude them and only keep the biggest connected component"
   ]
  },
  {
   "cell_type": "code",
   "execution_count": null,
   "metadata": {},
   "outputs": [],
   "source": []
  }
 ],
 "metadata": {
  "kernelspec": {
   "display_name": ".venv",
   "language": "python",
   "name": "python3"
  },
  "language_info": {
   "codemirror_mode": {
    "name": "ipython",
    "version": 3
   },
   "file_extension": ".py",
   "mimetype": "text/x-python",
   "name": "python",
   "nbconvert_exporter": "python",
   "pygments_lexer": "ipython3",
   "version": "3.11.6"
  }
 },
 "nbformat": 4,
 "nbformat_minor": 2
}
